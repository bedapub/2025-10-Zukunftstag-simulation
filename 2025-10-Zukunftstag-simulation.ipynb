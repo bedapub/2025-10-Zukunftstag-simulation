{
 "cells": [
  {
   "cell_type": "markdown",
   "id": "194627e8-ef13-4817-934d-c80a07573dfe",
   "metadata": {},
   "source": [
    "# Mathe Macht Medikamente: die Simulation\n",
    "Jitao David Zhang, Rigani Jegatheeswaran, und David Weber\n",
    "\n",
    "*Mathe Macht Medikamente* ist ein Workshop im Rahmen von Nationen Zukunftstag von Roche am 13.11. Der Workshop ist für Kinder zwischen 5. und 7. Klasse und deren Eltern konzipiert. Mehr Information über den Workshop ist [hier in einer Google Dokument](https://docs.google.com/document/d/1UBZIqVgjBpYKxbMi2KZX1lr_SdCBscWbLFOQXIVed80/edit?usp=sharing) zu finden.\n",
    "\n",
    "Der Workshop findet zweimal statt: einmal am Morgen und einmal am Nachmittag. Die Daten sind nur für jeweilige Session gespeichert, und danach werden gelöscht.\n",
    "\n",
    "Für dieses Event planen wir maximum 30 Teams."
   ]
  },
  {
   "cell_type": "markdown",
   "id": "4197bfe4-10f3-46ae-a5e3-e335ad83b457",
   "metadata": {},
   "source": [
    "## Vorbereitungen\n",
    "\n",
    "Jedes Kind/Elternteil paar bekommt ein Stück Papier, das sechs QR codes und relevante Informationen enthält:\n",
    "\n",
    "* Tech Check: Team eingeben\n",
    "* Set 1: Spiel der Körpergrössen\n",
    "* Set 2: Rat den Umfang\n",
    "* Set 3: Molekül Memory\n",
    "* Set 4: Klinische Studie \n",
    "* Feedback"
   ]
  },
  {
   "cell_type": "code",
   "execution_count": null,
   "id": "27907819-08ec-43ee-9873-350e07e19ad1",
   "metadata": {},
   "outputs": [],
   "source": [
    "import random\n",
    "import pandas as pd\n",
    "import numpy as np\n",
    "import itables\n",
    "import matplotlib\n",
    "import seaborn as sns\n",
    "import mplcursors as mc\n",
    "\n",
    "%matplotlib widget\n",
    "\n",
    "from itables import show\n",
    "import matplotlib.pyplot as plt\n",
    "\n",
    "matplotlib_font = {'size': 22}\n",
    "matplotlib.rc('font', **matplotlib_font)\n",
    "matplotlib.rcParams['figure.figsize'] = [8, 8]\n",
    "\n",
    "itables.options.allow_html = True\n",
    "itables.options.style = \"table-layout: auto; width: auto; font-size: huge;\"\n",
    "\n",
    "n_teilnahme = 25\n",
    "random.seed(1887)\n",
    "np.random.seed(1887)\n",
    "\n",
    "umfang_ground_truth = 25"
   ]
  },
  {
   "cell_type": "code",
   "execution_count": null,
   "id": "b9851173-64e7-4a0b-896c-95e8b612a66d",
   "metadata": {},
   "outputs": [],
   "source": [
    "def which_true(bool_list):\n",
    "    res = [i for i, val in enumerate(bool_list) if val]\n",
    "    return(res)\n",
    "\n",
    "    \n",
    "def groesse_bins(values, bin_size=2):\n",
    "    min_val = int(np.round(np.min(values)))\n",
    "    max_val = int(np.round(np.max(values)))\n",
    "    res = np.arange(min_val-1, max_val+bin_size+1, bin_size) ## +bin_size+1 makes sure that data in the the last bin is shown\n",
    "    return(res)\n",
    "\n",
    "def plot_groesse(values, ax, style, bin_size=2):\n",
    "    value_bins = groesse_bins(values, bin_size=bin_size)\n",
    "    ax.hist(values, bins=value_bins, width=bin_size, **style)\n",
    "    ax.set(xticks=value_bins)\n",
    "    ax.set_xticklabels(ax.get_xticks(), rotation=45)\n",
    "    ax.plot(values, 0*values, 'd', color=\"orange\", markersize=12)\n",
    "    return(ax)"
   ]
  },
  {
   "cell_type": "code",
   "execution_count": null,
   "id": "4c4ecf33-a42e-4eb9-882b-6bcdad74d20c",
   "metadata": {},
   "outputs": [],
   "source": [
    "## Teams: ChatGPT, https://chatgpt.com/share/e/68f8f919-f328-8009-adbf-f3c76574926e\n",
    "with open('data/animals.txt', 'r') as tn:\n",
    "    all_team_namen_str = filter(bool, tn.read().split(\"\\n\")) ## the filter/book trick removes ANY empty string\n",
    "    all_team_namen = dict(item.split(\":\") for item in all_team_namen_str)\n",
    "## Kindervornamen: https://www.bfs.admin.ch/bfs/de/home/statistiken/bevoelkerung/geburten-todesfaelle/vornamen-neugeborene.assetdetail.540003.html\n",
    "with open('data/kinder_vornamen.txt', 'r') as kf:\n",
    "    kinder_vornamen = list(filter(bool, kf.read().splitlines()))\n",
    "## Elternvornamen: https://www.bfs.admin.ch/bfs/de/home/statistiken/bevoelkerung/geburten-todesfaelle/namen-schweiz.html, Jahrgang 1984\n",
    "with open('data/eltern_vornamen.txt', 'r') as ef:\n",
    "    eltern_vornamen = list(filter(bool, ef.read().splitlines()))"
   ]
  },
  {
   "cell_type": "code",
   "execution_count": null,
   "id": "e899c415-fa38-4196-9285-d84a78764015",
   "metadata": {},
   "outputs": [],
   "source": [
    "all_team_namen_de = list(all_team_namen.keys())\n",
    "all_team_namen_en = list(all_team_namen.values())"
   ]
  },
  {
   "cell_type": "code",
   "execution_count": null,
   "id": "4d5ea8a7-8b24-4a1c-ac9b-8cfd447a2140",
   "metadata": {},
   "outputs": [],
   "source": [
    "team_namen_de = random.sample(all_team_namen_de, n_teilnahme)\n",
    "team_namen_en = [all_team_namen[k] for k in team_namen_de]\n",
    "team_kind_vornamen = random.choices(kinder_vornamen, k=n_teilnahme) ## choices sample WITH replacement, samples WITHOUT replacement\n",
    "team_eltern_vornamen = random.choices(eltern_vornamen, k=n_teilnahme)"
   ]
  },
  {
   "cell_type": "code",
   "execution_count": null,
   "id": "b36eaaf3-d713-4800-93a9-8fb7e88813c4",
   "metadata": {},
   "outputs": [],
   "source": [
    "team_df = pd.DataFrame({'index': range(1, len(team_namen_de) + 1),\n",
    "                        'Team_de':team_namen_de,\n",
    "                        'Team_en':team_namen_en,\n",
    "                        'Eltern': team_eltern_vornamen,\n",
    "                        'Kind': team_kind_vornamen})\n",
    "team_df.set_index(\"index\");"
   ]
  },
  {
   "cell_type": "markdown",
   "id": "699dc3c4-dbd8-49cb-9e9d-bb970a7cba3a",
   "metadata": {},
   "source": [
    "## Tech Check: Team und Namen eingeben\n",
    "\n",
    "Jedes Team (Eltern + Kind) scannt den QR code (jedes Team, i.e. auf jedem Papier, hat ein eigenes QR Code). Der Server fragt nach Vornamen von dem Elternteil und dem Kind.\n",
    "\n",
    "Ergebnisse:\n",
    "\n",
    "* Eine Tabelle mit alle Teamnamen, die benutzt werden, und der Vornamen von Kindern und Eltern. Die Tabelle soll spaltenweise sortierbar sein.\n",
    "* Eine Tabelle mit allen einzigartigen Vornamen, und deren Frequenz untern Eltern, Kindern, und beiden."
   ]
  },
  {
   "cell_type": "markdown",
   "id": "e618c16a-6cae-463c-9614-0d75b70fc8c6",
   "metadata": {},
   "source": [
    "**Wichtig**: Jederzeit müssen wir in der Lage sein, alle gesammelten und abgeleiteten Daten (Teams, Vornamen, Körpergrössen, Umhang bzw. Unterschied zum richtigen Wert, usw.) in einer Tabelle zeigen können, um Konzept wie Median zu erklären. Es könnte so aussehen:  "
   ]
  },
  {
   "cell_type": "code",
   "execution_count": null,
   "id": "019b5307-41b5-430a-b9c1-023f10119239",
   "metadata": {},
   "outputs": [],
   "source": [
    "show(team_df, paging=False)"
   ]
  },
  {
   "cell_type": "code",
   "execution_count": null,
   "id": "d7938578-76ad-4cec-9775-086035e61745",
   "metadata": {},
   "outputs": [],
   "source": [
    "team_all_namen = team_eltern_vornamen + team_kind_vornamen\n",
    "team_all_namen_frequenz = pd.Series(team_all_namen).value_counts().reset_index()\n",
    "team_all_namen_frequenz.columns = ['Name', 'Frequenz']\n",
    "show(team_all_namen_frequenz)"
   ]
  },
  {
   "cell_type": "markdown",
   "id": "61af0d94-411c-413f-b723-bae076bc1d42",
   "metadata": {},
   "source": [
    "## Set 1: Körpergrössen\n",
    "\n",
    "Eingaben:\n",
    "\n",
    "* Teamname\n",
    "* Grösse von dem Elternteil, in centimeter (validation: nummer, und centimeter, NICHT meter, i.e. >10)\n",
    "* Grösse von dem Kind, in centimeter"
   ]
  },
  {
   "cell_type": "code",
   "execution_count": null,
   "id": "90b83654-5295-4701-8f39-5b833310f03a",
   "metadata": {},
   "outputs": [],
   "source": [
    "np.random.seed(1887)\n",
    "eltern_groesse, kind_groesse = np.around(np.random.multivariate_normal(mean=[180, 120], cov=[[15, 7], [7, 15]], size=n_teilnahme).T, 1)"
   ]
  },
  {
   "cell_type": "code",
   "execution_count": null,
   "id": "4f577ab3-ce89-44d7-a130-ed671cfc6347",
   "metadata": {},
   "outputs": [],
   "source": [
    "team_df[\"Eltern_groesse\"] = eltern_groesse\n",
    "team_df[\"Kind_groesse\"] = kind_groesse"
   ]
  },
  {
   "cell_type": "code",
   "execution_count": null,
   "id": "a2f26f6f-b1dd-4c6f-a265-93e906fcacbe",
   "metadata": {},
   "outputs": [],
   "source": [
    "fig, axs = plt.subplots(1, 2, sharey=True, tight_layout=True, \n",
    "                        figsize=(12, 6))\n",
    "\n",
    "\n",
    "axs[0] = plot_groesse(kind_groesse, axs[0],\n",
    "                      style={'facecolor': '#FFF8BC', 'edgecolor': '#004495', 'linewidth': 3})\n",
    "axs[0].set(xlabel=\"Grösse vom Kind [centimeter]\", ylabel=\"Frequenz\")\n",
    "axs[1] = plot_groesse(eltern_groesse, axs[1],\n",
    "                      style={'facecolor': '#D95F0E', 'edgecolor': '#004495', 'linewidth': 3})\n",
    "axs[1].set(xlabel=\"Grösse vom Eltern [centimeter]\")\n",
    "## plt.close(fig)"
   ]
  },
  {
   "cell_type": "code",
   "execution_count": null,
   "id": "6d859854-9f57-453b-917e-6f35c66dd9cd",
   "metadata": {},
   "outputs": [],
   "source": [
    "fig, ax = plt.subplots(1, 1, tight_layout=True, figsize=(7, 7))\n",
    "ax.plot(\"Eltern_groesse\", \"Kind_groesse\", data=team_df, \n",
    "         markersize=12,\n",
    "         linestyle=\"none\", color=\"blue\", marker=\"o\")\n",
    "cursor = mc.cursor(hover=mc.HoverMode.Transient)\n",
    "cursor.connect(\"add\", lambda sel: sel.annotation.set_text(team_df[\"Team_de\"][sel.index] + \"\\n\" +\n",
    "                                              team_df[\"Eltern\"][sel.index] + \": \" + str(team_df[\"Eltern_groesse\"][sel.index]) + \"cm\\n\" +\n",
    "                                              team_df[\"Kind\"][sel.index] + \": \" + str(team_df[\"Kind_groesse\"][sel.index]) + \"cm\"))\n",
    "ax.set_xlabel(\"Elternteil [centimeter]\")\n",
    "ax.set_ylabel(\"Kind [centimeter]\")\n",
    "ax.axis('equal')\n",
    "plt.show()"
   ]
  },
  {
   "cell_type": "code",
   "execution_count": null,
   "id": "11a30028-c4fa-45d3-9f7e-01089ff4fd9c",
   "metadata": {},
   "outputs": [],
   "source": [
    "eltern_med = np.median(eltern_groesse)\n",
    "kind_med = np.median(kind_groesse)\n",
    "med_dict = {'color': 'darkred',\n",
    "            'size': 18,\n",
    "            'weight': 'bold'}\n",
    "\n",
    "fig, ax = plt.subplots(1, 1, tight_layout=True, figsize=(12, 6))\n",
    "ax.plot(\"Eltern_groesse\", \"Kind_groesse\", data=team_df, \n",
    "         markersize=12, label=\"Team\", \n",
    "         linestyle=\"none\", color=\"blue\", marker=\"o\")\n",
    "ax.set_xlabel(\"Elternteil [centimeter]\")\n",
    "ax.set_ylabel(\"Kind [centimeter]\")\n",
    "ax.axis('equal')\n",
    "ax.axhline(kind_med, c=\"orange\", ls=\"--\", linewidth=3,\n",
    "           label=\"Median (Eltern): \" + str(eltern_med) + \"cm\")\n",
    "ax.axvline(eltern_med, c=\"#D95F0E\", ls=\"--\", linewidth=3,\n",
    "           label=\"Median (Kind): \" + str(kind_med) + \"cm\", )\n",
    "ax.set_title(\"Median (Zentralwert)\")\n",
    "\n",
    "# Shrink current axis by 20%\n",
    "box = ax.get_position()\n",
    "ax.set_position([box.x0, box.y0, box.width * 0.8, box.height])\n",
    "\n",
    "ax.legend(bbox_to_anchor=(1.04, 0.5), loc=\"center left\")\n",
    "plt.show()\n",
    "##plt.close(fig)"
   ]
  },
  {
   "cell_type": "code",
   "execution_count": null,
   "id": "c52e6d3e-06cd-4487-86d4-2c0614cc3aed",
   "metadata": {},
   "outputs": [],
   "source": [
    "coef, coef_var = np.polyfit(eltern_groesse, kind_groesse, 1, cov=True)\n",
    "poly1d_fn = np.poly1d(coef)\n",
    "\n",
    "fig = plt.figure(figsize=(11, 6), tight_layout=True)\n",
    "ax = plt.subplot(111)\n",
    "ax.plot(\"Eltern_groesse\", \"Kind_groesse\", data=team_df, \n",
    "         markersize=8, label=\"Team\",\n",
    "         linestyle=\"none\", color=\"blue\", marker=\"o\")\n",
    "ax.axis('equal')\n",
    "ax.set_aspect('equal', 'box')\n",
    "ax.plot(eltern_groesse, poly1d_fn(eltern_groesse), 'r',\n",
    "       label=\"Fit (Regression)\")\n",
    "## ax.plot(eltern_groesse, np.polyval(coef, eltern_groesse), \"r\")\n",
    "ax.set_xlabel(\"Elternteil [centimeter]\")\n",
    "ax.set_ylabel(\"Kind [centimeter]\")\n",
    "ax.set_title(\"Korrelation\")\n",
    "\n",
    "# Shrink current axis by 30%\n",
    "box = ax.get_position()\n",
    "ax.set_position([box.x0, box.y0, box.width * 0.8, box.height])\n",
    "\n",
    "ax.legend(bbox_to_anchor=(1.04, 0.5), loc=\"center left\")\n",
    "plt.show()\n",
    "## plt.close(fig)"
   ]
  },
  {
   "cell_type": "markdown",
   "id": "9b627081-703f-4409-8738-657d939af75c",
   "metadata": {},
   "source": [
    "## Set 2: Umfang des Raums\n",
    "\n",
    "Mit einer Markierung auf dem Boden zeigen wir den Eltern und Kindern, wie lang einen Meter ist. Dann haben die Eltern und Kinder 5 Minuten Zeit, dem Unfang des Raums zu schätzen. Dabei dürfen Eltern miteinadner austauschen, und Kinder dürfen miteinander austauschen, aber kein Austasch zwischen Eltern und Kinder sind erlaubt.\n",
    "\n",
    "Bei der Eingabe geben ein Elternteil und das Kind von jedem Team jeweils einen Schätzungswert. Das Elternteil und das Kind, die nähst an den richtigen Wert kommen, gewinnen."
   ]
  },
  {
   "cell_type": "code",
   "execution_count": null,
   "id": "2df54449-4b65-4b51-9dee-875ddb18d210",
   "metadata": {},
   "outputs": [],
   "source": [
    "np.random.seed(1887)\n",
    "eltern_umfang_werte = np.around(np.random.normal(umfang_ground_truth * 1.2, scale=5, size=len(team_eltern_vornamen)), 2)\n",
    "kind_umfang_werte = np.around(np.random.normal(umfang_ground_truth * 0.9, scale=8, size=len(team_kind_vornamen)),1 )\n",
    "team_df['Eltern_Umfang'] = eltern_umfang_werte\n",
    "team_df['Kind_Umfang'] = kind_umfang_werte\n",
    "show(team_df)"
   ]
  },
  {
   "cell_type": "code",
   "execution_count": null,
   "id": "be65bf55-9d67-44ce-8deb-4ca6c04eec0e",
   "metadata": {},
   "outputs": [],
   "source": [
    "all_umfang_werte = [eltern_umfang_werte] + [kind_umfang_werte]\n",
    "all_umfang_med = np.median(all_umfang_werte)"
   ]
  },
  {
   "cell_type": "code",
   "execution_count": null,
   "id": "d3d2cc13-3c68-4d77-80f7-053027e83cd6",
   "metadata": {},
   "outputs": [],
   "source": [
    "fig, axs = plt.subplots(1, 2, sharey=True, tight_layout=True, \n",
    "                        figsize=(12, 6))\n",
    "\n",
    "axs[0] = plot_groesse(team_df['Kind_Umfang'], axs[0],\n",
    "                      style={'facecolor': '#FFF8BC', 'edgecolor': '#004495', 'linewidth': 3},\n",
    "                     bin_size=3)\n",
    "axs[0].set(xlabel=\"Umfang (Kindern) [meter]\", ylabel=\"Frequenz\")\n",
    "axs[1] = plot_groesse(team_df['Eltern_Umfang'], axs[1],\n",
    "                      style={'facecolor': '#D95F0E', 'edgecolor': '#004495', 'linewidth': 3},\n",
    "                     bin_size=3)\n",
    "axs[1].set(xlabel=\"Umfang (Eltern) [meter]\")\n",
    "fig.show()\n",
    "## plt.close(fig)"
   ]
  },
  {
   "cell_type": "code",
   "execution_count": null,
   "id": "35fbcb09-2102-4787-9186-7a660753bb37",
   "metadata": {},
   "outputs": [],
   "source": [
    "med_dict = {'color': 'darkred',\n",
    "            'size': 18,\n",
    "            'weight': 'bold'}\n",
    "ground_truth_dict = {'color': 'darkgreen',\n",
    "            'size': 18,\n",
    "            'weight': 'bold'}\n",
    "\n",
    "fig, ax = plt.subplots(1, 1, figsize=(12, 6), tight_layout=True)\n",
    "hist = team_df[['Eltern_Umfang', 'Kind_Umfang']].plot.hist(stacked=True, \n",
    "                                                    ec='#363636', ax=ax,\n",
    "                                                    bins=12)\n",
    "ugt_line = hist.axvline(umfang_ground_truth, color=\"red\", ls=\"-\", linewidth=3,\n",
    "                        label=\"Umfang (\" + str(umfang_ground_truth) + \"m)\")\n",
    "um_line = hist.axvline(all_umfang_med, color=\"darkgreen\", ls=\"--\", linewidth=3, \n",
    "                       label=\"Median (\" + str(all_umfang_med) + \"m)\")\n",
    "hist.set_xlabel(\"Umfang [meter]\")\n",
    "hist.set_ylabel(\"Frequenz\")\n",
    "hist_handles, hist_labels = hist.get_legend_handles_labels()\n",
    "hist.legend(handles=hist_handles, \n",
    "            labels=hist_labels, bbox_to_anchor=(1.04, 0.5), loc=\"center left\")\n",
    "plt.show()\n",
    "## plt.close(fig)"
   ]
  },
  {
   "cell_type": "code",
   "execution_count": null,
   "id": "f2429320-77ba-4907-8cc6-af7410bc0411",
   "metadata": {},
   "outputs": [],
   "source": [
    "team_df[\"Eltern_Umfang_Delta\"] = team_df[\"Eltern_Umfang\"] - umfang_ground_truth\n",
    "team_df[\"Eltern_Umfang_absDelta\"] = abs(team_df[\"Eltern_Umfang_Delta\"])\n",
    "team_df[\"Kind_Umfang_Delta\"] = team_df[\"Kind_Umfang\"] - umfang_ground_truth\n",
    "team_df[\"Kind_Umfang_absDelta\"] = abs(team_df[\"Kind_Umfang_Delta\"])"
   ]
  },
  {
   "cell_type": "code",
   "execution_count": null,
   "id": "646ce08a-80a9-4408-b262-bd655bd5776a",
   "metadata": {},
   "outputs": [],
   "source": [
    "fig, axes = plt.subplots(1, 2, figsize=(12, 7), tight_layout=True)\n",
    "team_df_eltern_umfang_sorted = team_df.sort_values(\"Eltern_Umfang_Delta\")\n",
    "team_df_eltern_umfang_sorted.plot.barh(x=\"Team_de\", y=\"Eltern_Umfang_Delta\",\n",
    "                                     ax=axes[0], legend=False)\n",
    "eltern_gewinner = team_df_eltern_umfang_sorted.nsmallest(3, \"Eltern_Umfang_absDelta\", \"all\")\n",
    "eltern_gewinner_bool = team_df_eltern_umfang_sorted[\"Team_de\"].isin(list(eltern_gewinner[\"Team_de\"])).tolist()\n",
    "eltern_gewinner_ind = which_true(eltern_gewinner_bool)\n",
    "axes[0].plot([axes[0].get_xlim()[1] * 0.1] * len(eltern_gewinner_ind),\n",
    "        eltern_gewinner_ind, color=\"red\", marker=\"*\", \n",
    "        linestyle=\"none\", markersize=20)\n",
    "axes[0].set_ylabel(\"Differenz [meter]\")\n",
    "axes[0].set_xlabel(\"Eltern\")\n",
    "axes[0].axhline(0)\n",
    "\n",
    "team_df_kind_umfang_sorted = team_df.sort_values(\"Kind_Umfang_Delta\")\n",
    "team_df_kind_umfang_sorted.plot.barh(x=\"Team_de\", y=\"Kind_Umfang_Delta\",\n",
    "                                     ax=axes[1], legend=False)\n",
    "kind_gewinner = np.argmin(abs(team_df_kind_umfang_sorted[\"Kind_Umfang_Delta\"]))\n",
    "kind_gewinner = team_df_kind_umfang_sorted.nsmallest(3, \"Kind_Umfang_absDelta\", \"all\")\n",
    "kind_gewinner_bool = team_df_kind_umfang_sorted[\"Team_de\"].isin(list(kind_gewinner[\"Team_de\"])).tolist()\n",
    "kind_gewinner_ind = which_true(kind_gewinner_bool)\n",
    "axes[1].plot([axes[1].get_xlim()[1] * 0.1] * len(kind_gewinner_ind), \n",
    "        kind_gewinner_ind, \n",
    "        color=\"red\", marker=\"*\", \n",
    "        linestyle=\"none\", markersize=20)\n",
    "axes[1].set_ylabel(\"Differenz [meter]\")\n",
    "axes[1].set_xlabel(\"Kind\")\n",
    "axes[1].axhline(0)\n",
    "\n",
    "for i in range(len(axes)):\n",
    "    axes[i].tick_params(axis='both', which='major', labelsize=16)\n",
    "plt.show()"
   ]
  },
  {
   "cell_type": "code",
   "execution_count": null,
   "id": "124a744b-18b0-401f-a9d9-26a106e6dead",
   "metadata": {},
   "outputs": [],
   "source": [
    "umfang_coef = np.polyfit(team_df['Eltern_Umfang'],\n",
    "                         team_df['Kind_Umfang'], 1)\n",
    "umfang_poly1d_fn = np.poly1d(umfang_coef)\n",
    "\n",
    "fig, ax = plt.subplots(1, 1, figsize=(12, 6), tight_layout=True)\n",
    "ax.plot(\"Eltern_Umfang\", \"Kind_Umfang\", data=team_df, \n",
    "         markersize=8, label=\"Team\",\n",
    "         linestyle=\"none\", color=\"blue\", marker=\"o\")\n",
    "cursor = mc.cursor(hover=mc.HoverMode.Transient)\n",
    "cursor.connect(\"add\", lambda sel: sel.annotation.set_text(team_df[\"Team_de\"][sel.index] + \"\\n\" +\n",
    "                                              team_df[\"Eltern\"][sel.index] + \": \" + str(team_df[\"Eltern_Umfang\"][sel.index]) + \"m\\n\" +\n",
    "                                              team_df[\"Kind\"][sel.index] + \": \" + str(team_df[\"Kind_Umfang\"][sel.index]) + \"m\"))\n",
    "ax.plot(team_df['Eltern_Umfang'],\n",
    "        umfang_poly1d_fn(team_df['Eltern_Umfang']), 'r',\n",
    "       label=\"Fit (Regression)\")\n",
    "ax.set_xlabel(\"Umfang (Eltern) [meter]\")\n",
    "ax.set_ylabel(\"Umfang (Kind) [meter]\")\n",
    "ax.set_title(\"Korrelation\")\n",
    "\n",
    "# Shrink current axis by 20%\n",
    "box = ax.get_position()\n",
    "ax.set_position([box.x0, box.y0, box.width * 0.8, box.height])\n",
    "\n",
    "ax.legend(bbox_to_anchor=(1.04, 0.5), loc=\"center left\")\n",
    "plt.show()\n",
    "##plt.close(fig)"
   ]
  },
  {
   "cell_type": "markdown",
   "id": "768d40fe-0636-4a7a-a40c-34f3df63b5da",
   "metadata": {},
   "source": [
    "## Set 3: Molecule Memory\n",
    "\n",
    "Beispiel: Es wird ein Molekül auf dem Bildschirm fün ein paar Sekuneden gezeigt. Dann werden vier Moleküle Moleküle präsentiert, und die Teams müssen raten, welches Molekül das gleiche ist (A, B, C, D)\n",
    "\n",
    "1. Aspirin\n",
    "2. Gluthanione\n",
    "3. Dopamine\n",
    "4. Baloxavir marboxil\n",
    "5. Risdiplam\n",
    "\n",
    "Nach jeder Runde wird ein Barchart gezeigt, das zeigt, welche Teams sich jeweils für A, B, C, D entschieden haben. Am Ende werden gezeigt, wie viele Teams haben 1, 2, 3, 4, bzw. 5mal das Molekül richtig gefunden haben. "
   ]
  },
  {
   "cell_type": "markdown",
   "id": "fbf82636-4c06-470f-a36c-417635aa1bd5",
   "metadata": {},
   "source": [
    "## Set 4: Eine klinische Studie\n",
    "\n",
    "* Placebo hat kein Effekt\n",
    "* Medikament zeigt eine Wirkung\n",
    "* Für die, die eine bakterielle Infektion haben, zeigt es besonders stärke Wirkung "
   ]
  },
  {
   "cell_type": "code",
   "execution_count": null,
   "id": "ad24d492-1c9e-4170-80f9-6f4d4c87cd89",
   "metadata": {},
   "outputs": [],
   "source": [
    "placebo_vor = np.random.randint(3, 11, size= len(team_df))"
   ]
  },
  {
   "cell_type": "code",
   "execution_count": null,
   "id": "af0b92e7-cc10-4124-a381-8c8ca12e6335",
   "metadata": {},
   "outputs": [],
   "source": []
  }
 ],
 "metadata": {
  "kernelspec": {
   "display_name": "Python 3 (ipykernel)",
   "language": "python",
   "name": "python3"
  },
  "language_info": {
   "codemirror_mode": {
    "name": "ipython",
    "version": 3
   },
   "file_extension": ".py",
   "mimetype": "text/x-python",
   "name": "python",
   "nbconvert_exporter": "python",
   "pygments_lexer": "ipython3",
   "version": "3.11.0"
  }
 },
 "nbformat": 4,
 "nbformat_minor": 5
}
