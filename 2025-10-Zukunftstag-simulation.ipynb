{
 "cells": [
  {
   "cell_type": "markdown",
   "id": "194627e8-ef13-4817-934d-c80a07573dfe",
   "metadata": {},
   "source": [
    "# Mathe Macht Medikamente: die Simulation\n",
    "Jitao David Zhang, Rigani Jegatheeswaran, und David Weber\n",
    "\n",
    "*Mathe Macht Medikamente* ist ein Workshop im Rahmen von Nationen Zukunftstag von Roche am 13.11. Der Workshop ist für Kinder zwischen 5. und 7. Klasse und deren Eltern konzipiert. Mehr Information über den Workshop ist [hier in einer Google Dokument](https://docs.google.com/document/d/1UBZIqVgjBpYKxbMi2KZX1lr_SdCBscWbLFOQXIVed80/edit?usp=sharing) zu finden.\n",
    "\n",
    "Der Workshop findet zweimal statt: einmal am Morgen und einmal am Nachmittag. Die Daten sind nur für jeweilige Session gespeichert, und danach werden gelöscht.\n",
    "\n",
    "Für dieses Event planen wir maximum 30 Teams."
   ]
  },
  {
   "cell_type": "markdown",
   "id": "4197bfe4-10f3-46ae-a5e3-e335ad83b457",
   "metadata": {},
   "source": [
    "## Vorbereitungen\n",
    "\n",
    "Jedes Kind/Elternteil paar bekommt ein Papier, darauf steht fünf QR codes und andere Informationen:\n",
    "\n",
    "Tech Check: Team eingeben\n",
    "Spiel 1: Körpergrösse\n",
    "Spiel 2: Umfang\n",
    "Spiel 3: Klinische Studie #1\n",
    "Spiel 4: Klinische Studie #2"
   ]
  },
  {
   "cell_type": "code",
   "execution_count": 16,
   "id": "27907819-08ec-43ee-9873-350e07e19ad1",
   "metadata": {},
   "outputs": [],
   "source": [
    "import random\n",
    "import pandas as pd\n",
    "import numpy as np\n",
    "from itables import show\n",
    "import matplotlib.pyplot as plt\n",
    "\n",
    "n_teilnahme = 25\n",
    "random.seed(1887)"
   ]
  },
  {
   "cell_type": "code",
   "execution_count": 1,
   "id": "4c4ecf33-a42e-4eb9-882b-6bcdad74d20c",
   "metadata": {},
   "outputs": [],
   "source": [
    "## Teams: ChatGPT, https://chatgpt.com/share/e/68f8f919-f328-8009-adbf-f3c76574926e\n",
    "with open('data/animals.txt', 'r') as tn:\n",
    "    all_team_namen_str = filter(bool, tn.read().split(\"\\n\")) ## the filter/book trick removes ANY empty string\n",
    "    all_team_namen = dict(item.split(\":\") for item in all_team_namen_str)\n",
    "## Kindervornamen: https://www.bfs.admin.ch/bfs/de/home/statistiken/bevoelkerung/geburten-todesfaelle/vornamen-neugeborene.assetdetail.540003.html\n",
    "with open('data/kinder_vornamen.txt', 'r') as kf:\n",
    "    kinder_vornamen = list(filter(bool, kf.read().splitlines()))\n",
    "## Elternvornamen: https://www.bfs.admin.ch/bfs/de/home/statistiken/bevoelkerung/geburten-todesfaelle/namen-schweiz.html, Jahrgang 1984\n",
    "with open('data/eltern_vornamen.txt', 'r') as ef:\n",
    "    eltern_vornamen = list(filter(bool, ef.read().splitlines()))"
   ]
  },
  {
   "cell_type": "code",
   "execution_count": 2,
   "id": "e899c415-fa38-4196-9285-d84a78764015",
   "metadata": {},
   "outputs": [],
   "source": [
    "all_team_namen_de = list(all_team_namen.keys())\n",
    "all_team_namen_en = list(all_team_namen.values())"
   ]
  },
  {
   "cell_type": "code",
   "execution_count": 3,
   "id": "4d5ea8a7-8b24-4a1c-ac9b-8cfd447a2140",
   "metadata": {},
   "outputs": [],
   "source": [
    "team_namen_de = random.sample(all_team_namen_de, n_teilnahme)\n",
    "team_namen_en = [all_team_namen[k] for k in team_namen_de]\n",
    "team_kind_vornamen = random.choices(kinder_vornamen, k=n_teilnahme) ## choices sample WITH replacement, samples WITHOUT replacement\n",
    "team_eltern_vornamen = random.choices(eltern_vornamen, k=n_teilnahme)"
   ]
  },
  {
   "cell_type": "code",
   "execution_count": 4,
   "id": "b36eaaf3-d713-4800-93a9-8fb7e88813c4",
   "metadata": {},
   "outputs": [],
   "source": [
    "team_df = pd.DataFrame({'Team_de':team_namen_de,\n",
    "                        'Team_en':team_namen_en,\n",
    "                        'Eltern': team_eltern_vornamen,\n",
    "                        'Kind': team_kind_vornamen})"
   ]
  },
  {
   "cell_type": "markdown",
   "id": "699dc3c4-dbd8-49cb-9e9d-bb970a7cba3a",
   "metadata": {},
   "source": [
    "## Tech Check: Team und Namen eingeben\n",
    "\n",
    "Jedes Team (Eltern + Kind) scannt den QR code (jedes Team, i.e. auf jedem Papier, hat ein eigenes QR Code). Der Server fragt nach Vornamen von dem Elternteil und dem Kind.\n",
    "\n",
    "Ergebnisse:\n",
    "\n",
    "* Eine Tabelle mit alle Teamnamen, die benutzt werden, und der Vornamen von Kindern und Eltern. Die Tabelle soll spaltenweise sortierbar sein.\n",
    "* Eine Tabelle mit allen einzigartigen Vornamen, und deren Frequenz untern Eltern, Kindern, und beiden."
   ]
  },
  {
   "cell_type": "code",
   "execution_count": 5,
   "id": "019b5307-41b5-430a-b9c1-023f10119239",
   "metadata": {},
   "outputs": [
    {
     "data": {
      "text/html": [
       "<!--| quarto-html-table-processing: none -->\n",
       "<table id=\"itables_f84c4bc4_f20f_4939_b4e1_75d414960e2b\"><tbody><tr>\n",
       "    <td style=\"vertical-align:middle; text-align:left\">\n",
       "    <a href=https://mwouts.github.io/itables/><svg class=\"main-svg\" xmlns=\"http://www.w3.org/2000/svg\" xmlns:xlink=\"http://www.w3.org/1999/xlink\"\n",
       "width=\"64\" viewBox=\"0 0 500 400\" style=\"font-family: 'Droid Sans', sans-serif;\">\n",
       "    <g style=\"fill:#d9d7fc\">\n",
       "        <path d=\"M100,400H500V357H100Z\" />\n",
       "        <path d=\"M100,300H400V257H100Z\" />\n",
       "        <path d=\"M0,200H400V157H0Z\" />\n",
       "        <path d=\"M100,100H500V57H100Z\" />\n",
       "        <path d=\"M100,350H500V307H100Z\" />\n",
       "        <path d=\"M100,250H400V207H100Z\" />\n",
       "        <path d=\"M0,150H400V107H0Z\" />\n",
       "        <path d=\"M100,50H500V7H100Z\" />\n",
       "    </g>\n",
       "    <g style=\"fill:#1a1366;stroke:#1a1366;\">\n",
       "   <rect x=\"100\" y=\"7\" width=\"400\" height=\"43\">\n",
       "    <animate\n",
       "      attributeName=\"width\"\n",
       "      values=\"0;400;0\"\n",
       "      dur=\"5s\"\n",
       "      repeatCount=\"indefinite\" />\n",
       "      <animate\n",
       "      attributeName=\"x\"\n",
       "      values=\"100;100;500\"\n",
       "      dur=\"5s\"\n",
       "      repeatCount=\"indefinite\" />\n",
       "  </rect>\n",
       "        <rect x=\"0\" y=\"107\" width=\"400\" height=\"43\">\n",
       "    <animate\n",
       "      attributeName=\"width\"\n",
       "      values=\"0;400;0\"\n",
       "      dur=\"3.5s\"\n",
       "      repeatCount=\"indefinite\" />\n",
       "    <animate\n",
       "      attributeName=\"x\"\n",
       "      values=\"0;0;400\"\n",
       "      dur=\"3.5s\"\n",
       "      repeatCount=\"indefinite\" />\n",
       "  </rect>\n",
       "        <rect x=\"100\" y=\"207\" width=\"300\" height=\"43\">\n",
       "    <animate\n",
       "      attributeName=\"width\"\n",
       "      values=\"0;300;0\"\n",
       "      dur=\"3s\"\n",
       "      repeatCount=\"indefinite\" />\n",
       "    <animate\n",
       "      attributeName=\"x\"\n",
       "      values=\"100;100;400\"\n",
       "      dur=\"3s\"\n",
       "      repeatCount=\"indefinite\" />\n",
       "  </rect>\n",
       "        <rect x=\"100\" y=\"307\" width=\"400\" height=\"43\">\n",
       "    <animate\n",
       "      attributeName=\"width\"\n",
       "      values=\"0;400;0\"\n",
       "      dur=\"4s\"\n",
       "      repeatCount=\"indefinite\" />\n",
       "      <animate\n",
       "      attributeName=\"x\"\n",
       "      values=\"100;100;500\"\n",
       "      dur=\"4s\"\n",
       "      repeatCount=\"indefinite\" />\n",
       "  </rect>\n",
       "        <g style=\"fill:transparent;stroke-width:8; stroke-linejoin:round\" rx=\"5\">\n",
       "            <g transform=\"translate(45 50) rotate(-45)\">\n",
       "                <circle r=\"33\" cx=\"0\" cy=\"0\" />\n",
       "                <rect x=\"-8\" y=\"32\" width=\"16\" height=\"30\" />\n",
       "            </g>\n",
       "\n",
       "            <g transform=\"translate(450 152)\">\n",
       "                <polyline points=\"-15,-20 -35,-20 -35,40 25,40 25,20\" />\n",
       "                <rect x=\"-15\" y=\"-40\" width=\"60\" height=\"60\" />\n",
       "            </g>\n",
       "\n",
       "            <g transform=\"translate(50 352)\">\n",
       "                <polygon points=\"-35,-5 0,-40 35,-5\" />\n",
       "                <polygon points=\"-35,10 0,45 35,10\" />\n",
       "            </g>\n",
       "\n",
       "            <g transform=\"translate(75 250)\">\n",
       "                <polyline points=\"-30,30 -60,0 -30,-30\" />\n",
       "                <polyline points=\"0,30 -30,0 0,-30\" />\n",
       "            </g>\n",
       "\n",
       "            <g transform=\"translate(425 250) rotate(180)\">\n",
       "                <polyline points=\"-30,30 -60,0 -30,-30\" />\n",
       "                <polyline points=\"0,30 -30,0 0,-30\" />\n",
       "            </g>\n",
       "        </g>\n",
       "    </g>\n",
       "</svg>\n",
       "</a>\n",
       "    Loading ITables v2.5.2 from the internet...\n",
       "    (need <a href=https://mwouts.github.io/itables/troubleshooting.html>help</a>?)</td>\n",
       "    </tr></tbody></table>\n",
       "<link href=\"https://www.unpkg.com/dt_for_itables@2.4.0/dt_bundle.css\" rel=\"stylesheet\">\n",
       "<script type=\"module\">\n",
       "    import { ITable, jQuery as $ } from 'https://www.unpkg.com/dt_for_itables@2.4.0/dt_bundle.js';\n",
       "\n",
       "    document.querySelectorAll(\"#itables_f84c4bc4_f20f_4939_b4e1_75d414960e2b:not(.dataTable)\").forEach(table => {\n",
       "        if (!(table instanceof HTMLTableElement))\n",
       "            return;\n",
       "\n",
       "        let dt_args = {\"paging\": false, \"layout\": {\"topStart\": \"pageLength\", \"topEnd\": \"search\", \"bottomStart\": \"info\", \"bottomEnd\": \"paging\"}, \"text_in_header_can_be_selected\": true, \"style\": {\"table-layout\": \"auto\", \"width\": \"auto\", \"margin\": \"auto\", \"caption-side\": \"bottom\"}, \"classes\": [\"display\", \"nowrap\"], \"order\": [], \"table_html\": \"<table><thead>\\n    <tr style=\\\"text-align: right;\\\">\\n      \\n      <th>Team_de</th>\\n      <th>Team_en</th>\\n      <th>Eltern</th>\\n      <th>Kind</th>\\n    </tr>\\n  </thead></table>\", \"data_json\": \"[[\\\"Interessantes Igelchen\\\", \\\"interesting little hedgehog\\\", \\\"Pascal\\\", \\\"Ben\\\"], [\\\"Sanfter Schwan\\\", \\\"gentle swan\\\", \\\"Ana\\\", \\\"Matteo\\\"], [\\\"Mutiger Marienk\\\\u00e4fer\\\", \\\"brave ladybug\\\", \\\"Claudia\\\", \\\"Samuel\\\"], [\\\"Offenes Otterchen\\\", \\\"open-minded little otter\\\", \\\"Anna\\\", \\\"Nina\\\"], [\\\"Heiteres Huhn\\\", \\\"merry chicken\\\", \\\"Matthias\\\", \\\"Sofia\\\"], [\\\"Ruhiges Reh\\\", \\\"calm deer\\\", \\\"Ana\\\", \\\"Julian\\\"], [\\\"Neugieriges Nilpferd\\\", \\\"curious hippo\\\", \\\"Sabrina\\\", \\\"Alina\\\"], [\\\"Yogafreundlicher Yak\\\", \\\"peaceful yak\\\", \\\"Pascal\\\", \\\"Diego\\\"], [\\\"Fr\\\\u00f6hlicher Fuchs\\\", \\\"cheerful fox\\\", \\\"Florian\\\", \\\"Jonas\\\"], [\\\"Kluges K\\\\u00e4tzchen\\\", \\\"clever kitten\\\", \\\"Pascal\\\", \\\"Sophie\\\"], [\\\"Putziger Pinguin\\\", \\\"cute penguin\\\", \\\"Simon\\\", \\\"Luca\\\"], [\\\"Braver B\\\\u00e4r\\\", \\\"brave bear\\\", \\\"Fabienne\\\", \\\"Diego\\\"], [\\\"Abenteuerlustiger Adler\\\", \\\"adventurous eagle\\\", \\\"Fabian\\\", \\\"Mila\\\"], [\\\"Quicklebendiges Quokka\\\", \\\"spirited quokka\\\", \\\"Matthias\\\", \\\"Anna\\\"], [\\\"Umsichtiger Uhu\\\", \\\"cautious owl\\\", \\\"Pascal\\\", \\\"Tim\\\"], [\\\"Wunderbarer Wolf\\\", \\\"wonderful wolf\\\", \\\"Adrian\\\", \\\"Lia\\\"], [\\\"Verspieltes V\\\\u00f6gelchen\\\", \\\"playful little bird\\\", \\\"Thomas\\\", \\\"Diego\\\"], [\\\"Eleganter Elefant\\\", \\\"elegant elephant\\\", \\\"Barbara\\\", \\\"Sophia\\\"], [\\\"Freundliches Frettchen\\\", \\\"friendly ferret\\\", \\\"Martina\\\", \\\"Gabriel\\\"], [\\\"Treuer Tukan\\\", \\\"loyal toucan\\\", \\\"Adrian\\\", \\\"Diego\\\"], [\\\"Cleverer Chinchilla\\\", \\\"clever chinchilla\\\", \\\"Fabienne\\\", \\\"Mia\\\"], [\\\"Zauberhaftes Zebra\\\", \\\"enchanting zebra\\\", \\\"Laura\\\", \\\"Noah\\\"], [\\\"Jovialer Jaguar\\\", \\\"jovial jaguar\\\", \\\"Stefanie\\\", \\\"Sofia\\\"], [\\\"Z\\\\u00e4rtlicher Ziegenbock\\\", \\\"tender goat\\\", \\\"Daniela\\\", \\\"Mila\\\"], [\\\"Lebenslustiger L\\\\u00f6we\\\", \\\"lively lion\\\", \\\"Stefanie\\\", \\\"David\\\"]]\"};\n",
       "        new ITable(table, dt_args);\n",
       "    });\n",
       "</script>\n"
      ],
      "text/plain": [
       "<IPython.core.display.HTML object>"
      ]
     },
     "metadata": {},
     "output_type": "display_data"
    }
   ],
   "source": [
    "show(team_df, paging=False)"
   ]
  },
  {
   "cell_type": "code",
   "execution_count": 7,
   "id": "d7938578-76ad-4cec-9775-086035e61745",
   "metadata": {},
   "outputs": [
    {
     "data": {
      "text/html": [
       "<!--| quarto-html-table-processing: none -->\n",
       "<table id=\"itables_1f577967_fb76_4b2a_9e65_c35596976c8b\"><tbody><tr>\n",
       "    <td style=\"vertical-align:middle; text-align:left\">\n",
       "    <a href=https://mwouts.github.io/itables/><svg class=\"main-svg\" xmlns=\"http://www.w3.org/2000/svg\" xmlns:xlink=\"http://www.w3.org/1999/xlink\"\n",
       "width=\"64\" viewBox=\"0 0 500 400\" style=\"font-family: 'Droid Sans', sans-serif;\">\n",
       "    <g style=\"fill:#d9d7fc\">\n",
       "        <path d=\"M100,400H500V357H100Z\" />\n",
       "        <path d=\"M100,300H400V257H100Z\" />\n",
       "        <path d=\"M0,200H400V157H0Z\" />\n",
       "        <path d=\"M100,100H500V57H100Z\" />\n",
       "        <path d=\"M100,350H500V307H100Z\" />\n",
       "        <path d=\"M100,250H400V207H100Z\" />\n",
       "        <path d=\"M0,150H400V107H0Z\" />\n",
       "        <path d=\"M100,50H500V7H100Z\" />\n",
       "    </g>\n",
       "    <g style=\"fill:#1a1366;stroke:#1a1366;\">\n",
       "   <rect x=\"100\" y=\"7\" width=\"400\" height=\"43\">\n",
       "    <animate\n",
       "      attributeName=\"width\"\n",
       "      values=\"0;400;0\"\n",
       "      dur=\"5s\"\n",
       "      repeatCount=\"indefinite\" />\n",
       "      <animate\n",
       "      attributeName=\"x\"\n",
       "      values=\"100;100;500\"\n",
       "      dur=\"5s\"\n",
       "      repeatCount=\"indefinite\" />\n",
       "  </rect>\n",
       "        <rect x=\"0\" y=\"107\" width=\"400\" height=\"43\">\n",
       "    <animate\n",
       "      attributeName=\"width\"\n",
       "      values=\"0;400;0\"\n",
       "      dur=\"3.5s\"\n",
       "      repeatCount=\"indefinite\" />\n",
       "    <animate\n",
       "      attributeName=\"x\"\n",
       "      values=\"0;0;400\"\n",
       "      dur=\"3.5s\"\n",
       "      repeatCount=\"indefinite\" />\n",
       "  </rect>\n",
       "        <rect x=\"100\" y=\"207\" width=\"300\" height=\"43\">\n",
       "    <animate\n",
       "      attributeName=\"width\"\n",
       "      values=\"0;300;0\"\n",
       "      dur=\"3s\"\n",
       "      repeatCount=\"indefinite\" />\n",
       "    <animate\n",
       "      attributeName=\"x\"\n",
       "      values=\"100;100;400\"\n",
       "      dur=\"3s\"\n",
       "      repeatCount=\"indefinite\" />\n",
       "  </rect>\n",
       "        <rect x=\"100\" y=\"307\" width=\"400\" height=\"43\">\n",
       "    <animate\n",
       "      attributeName=\"width\"\n",
       "      values=\"0;400;0\"\n",
       "      dur=\"4s\"\n",
       "      repeatCount=\"indefinite\" />\n",
       "      <animate\n",
       "      attributeName=\"x\"\n",
       "      values=\"100;100;500\"\n",
       "      dur=\"4s\"\n",
       "      repeatCount=\"indefinite\" />\n",
       "  </rect>\n",
       "        <g style=\"fill:transparent;stroke-width:8; stroke-linejoin:round\" rx=\"5\">\n",
       "            <g transform=\"translate(45 50) rotate(-45)\">\n",
       "                <circle r=\"33\" cx=\"0\" cy=\"0\" />\n",
       "                <rect x=\"-8\" y=\"32\" width=\"16\" height=\"30\" />\n",
       "            </g>\n",
       "\n",
       "            <g transform=\"translate(450 152)\">\n",
       "                <polyline points=\"-15,-20 -35,-20 -35,40 25,40 25,20\" />\n",
       "                <rect x=\"-15\" y=\"-40\" width=\"60\" height=\"60\" />\n",
       "            </g>\n",
       "\n",
       "            <g transform=\"translate(50 352)\">\n",
       "                <polygon points=\"-35,-5 0,-40 35,-5\" />\n",
       "                <polygon points=\"-35,10 0,45 35,10\" />\n",
       "            </g>\n",
       "\n",
       "            <g transform=\"translate(75 250)\">\n",
       "                <polyline points=\"-30,30 -60,0 -30,-30\" />\n",
       "                <polyline points=\"0,30 -30,0 0,-30\" />\n",
       "            </g>\n",
       "\n",
       "            <g transform=\"translate(425 250) rotate(180)\">\n",
       "                <polyline points=\"-30,30 -60,0 -30,-30\" />\n",
       "                <polyline points=\"0,30 -30,0 0,-30\" />\n",
       "            </g>\n",
       "        </g>\n",
       "    </g>\n",
       "</svg>\n",
       "</a>\n",
       "    Loading ITables v2.5.2 from the internet...\n",
       "    (need <a href=https://mwouts.github.io/itables/troubleshooting.html>help</a>?)</td>\n",
       "    </tr></tbody></table>\n",
       "<link href=\"https://www.unpkg.com/dt_for_itables@2.4.0/dt_bundle.css\" rel=\"stylesheet\">\n",
       "<script type=\"module\">\n",
       "    import { ITable, jQuery as $ } from 'https://www.unpkg.com/dt_for_itables@2.4.0/dt_bundle.js';\n",
       "\n",
       "    document.querySelectorAll(\"#itables_1f577967_fb76_4b2a_9e65_c35596976c8b:not(.dataTable)\").forEach(table => {\n",
       "        if (!(table instanceof HTMLTableElement))\n",
       "            return;\n",
       "\n",
       "        let dt_args = {\"layout\": {\"topStart\": \"pageLength\", \"topEnd\": \"search\", \"bottomStart\": \"info\", \"bottomEnd\": \"paging\"}, \"text_in_header_can_be_selected\": true, \"style\": {\"table-layout\": \"auto\", \"width\": \"auto\", \"margin\": \"auto\", \"caption-side\": \"bottom\"}, \"classes\": [\"display\", \"nowrap\"], \"order\": [], \"table_html\": \"<table><thead>\\n    <tr style=\\\"text-align: right;\\\">\\n      \\n      <th>Name</th>\\n      <th>Frequenz</th>\\n    </tr>\\n  </thead></table>\", \"data_json\": \"[[\\\"Pascal\\\", 4], [\\\"Diego\\\", 4], [\\\"Fabienne\\\", 2], [\\\"Ana\\\", 2], [\\\"Stefanie\\\", 2], [\\\"Mila\\\", 2], [\\\"Sofia\\\", 2], [\\\"Adrian\\\", 2], [\\\"Matthias\\\", 2], [\\\"Anna\\\", 2], [\\\"Sophia\\\", 1], [\\\"Lia\\\", 1], [\\\"Gabriel\\\", 1], [\\\"Tim\\\", 1], [\\\"Mia\\\", 1], [\\\"Luca\\\", 1], [\\\"Sophie\\\", 1], [\\\"Jonas\\\", 1], [\\\"Noah\\\", 1], [\\\"Alina\\\", 1], [\\\"Julian\\\", 1], [\\\"Matteo\\\", 1], [\\\"Nina\\\", 1], [\\\"Samuel\\\", 1], [\\\"Ben\\\", 1], [\\\"Daniela\\\", 1], [\\\"Laura\\\", 1], [\\\"Martina\\\", 1], [\\\"Barbara\\\", 1], [\\\"Thomas\\\", 1], [\\\"Fabian\\\", 1], [\\\"Simon\\\", 1], [\\\"Florian\\\", 1], [\\\"Sabrina\\\", 1], [\\\"Claudia\\\", 1], [\\\"David\\\", 1]]\"};\n",
       "        new ITable(table, dt_args);\n",
       "    });\n",
       "</script>\n"
      ],
      "text/plain": [
       "<IPython.core.display.HTML object>"
      ]
     },
     "metadata": {},
     "output_type": "display_data"
    }
   ],
   "source": [
    "team_all_namen = team_eltern_vornamen + team_kind_vornamen\n",
    "team_all_namen_frequenz = pd.Series(team_all_namen).value_counts().reset_index()\n",
    "team_all_namen_frequenz.columns = ['Name', 'Frequenz']\n",
    "show(team_all_namen_frequenz)"
   ]
  },
  {
   "cell_type": "markdown",
   "id": "61af0d94-411c-413f-b723-bae076bc1d42",
   "metadata": {},
   "source": [
    "## Spiel 1: Körpergrössen\n",
    "\n",
    "Eingaben:\n",
    "\n",
    "* Teamname\n",
    "* Grösse von dem Elternteil, in centimeter (validation: nummer, und centimeter, NICHT meter, i.e. >10)\n",
    "* Grösse von dem Kind, in centimeter"
   ]
  },
  {
   "cell_type": "code",
   "execution_count": null,
   "id": "90b83654-5295-4701-8f39-5b833310f03a",
   "metadata": {},
   "outputs": [],
   "source": [
    "np.random.seed(1887)\n",
    "eltern_groesse, kind_groesse = np.random.multivariate_normal(mean=[180, 120], cov=[[15, 7], [7, 12]], size=n_teilnahme).T"
   ]
  },
  {
   "cell_type": "code",
   "execution_count": 25,
   "id": "a2f26f6f-b1dd-4c6f-a265-93e906fcacbe",
   "metadata": {},
   "outputs": [
    {
     "data": {
      "image/png": "[encoded data removed]",
      "text/plain": [
       "<Figure size 640x480 with 2 Axes>"
      ]
     },
     "metadata": {},
     "output_type": "display_data"
    }
   ],
   "source": [
    "n_bins = 10\n",
    "fig, axs = plt.subplots(1, 2, sharey=True, tight_layout=True)\n",
    "\n",
    "# We can set the number of bins with the *bins* keyword argument.\n",
    "axs[0].hist(eltern_groesse, bins=n_bins)\n",
    "axs[1].hist(kind_groesse, bins=n_bins)\n",
    "\n",
    "plt.show()"
   ]
  },
  {
   "cell_type": "code",
   "execution_count": 22,
   "id": "6d859854-9f57-453b-917e-6f35c66dd9cd",
   "metadata": {},
   "outputs": [
    {
     "data": {
      "image/png": "[encoded data removed]",
      "text/plain": [
       "<Figure size 640x480 with 1 Axes>"
      ]
     },
     "metadata": {},
     "output_type": "display_data"
    }
   ],
   "source": [
    "\n",
    "plt.plot(eltern_groesse, kind_groesse, \"bo\")\n",
    "plt.xlabel(\"Elternteil [centimeter]\")\n",
    "plt.ylabel(\"Kind [centimeter]\")\n",
    "plt.axis('equal')\n",
    "plt.show()"
   ]
  },
  {
   "cell_type": "code",
   "execution_count": 24,
   "id": "c52e6d3e-06cd-4487-86d4-2c0614cc3aed",
   "metadata": {},
   "outputs": [
    {
     "data": {
      "image/png": "[encoded data removed]",
      "text/plain": [
       "<Figure size 640x480 with 1 Axes>"
      ]
     },
     "metadata": {},
     "output_type": "display_data"
    }
   ],
   "source": [
    "coef = np.polyfit(eltern_groesse, kind_groesse,1)\n",
    "poly1d_fn = np.poly1d(coef) \n",
    "\n",
    "plt.plot(eltern_groesse, kind_groesse, 'bo', eltern_groesse, poly1d_fn(eltern_groesse), '--k')\n",
    "plt.xlabel(\"Elternteil [centimeter]\")\n",
    "plt.ylabel(\"Kind [centimeter]\")\n",
    "plt.axis('equal')\n",
    "plt.show()"
   ]
  },
  {
   "cell_type": "markdown",
   "id": "9b627081-703f-4409-8738-657d939af75c",
   "metadata": {},
   "source": [
    "## Spiel 2"
   ]
  },
  {
   "cell_type": "code",
   "execution_count": null,
   "id": "2df54449-4b65-4b51-9dee-875ddb18d210",
   "metadata": {},
   "outputs": [],
   "source": []
  }
 ],
 "metadata": {
  "kernelspec": {
   "display_name": "Python 3 (ipykernel)",
   "language": "python",
   "name": "python3"
  },
  "language_info": {
   "codemirror_mode": {
    "name": "ipython",
    "version": 3
   },
   "file_extension": ".py",
   "mimetype": "text/x-python",
   "name": "python",
   "nbconvert_exporter": "python",
   "pygments_lexer": "ipython3",
   "version": "3.14.0"
  }
 },
 "nbformat": 4,
 "nbformat_minor": 5
}
