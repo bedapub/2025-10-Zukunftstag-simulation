{
 "cells": [
  {
   "cell_type": "markdown",
   "id": "194627e8-ef13-4817-934d-c80a07573dfe",
   "metadata": {},
   "source": [
    "# Mathe Macht Medikamente: die Simulation\n",
    "Jitao David Zhang, Rigani Jegatheeswaran, und David Weber\n",
    "\n",
    "*Mathe Macht Medikamente* ist ein Workshop im Rahmen von Nationen Zukunftstag von Roche am 13.11. Der Workshop ist für Kinder zwischen 5. und 7. Klasse und deren Eltern konzipiert. Mehr Information über den Workshop ist [hier in einer Google Dokument](https://docs.google.com/document/d/1UBZIqVgjBpYKxbMi2KZX1lr_SdCBscWbLFOQXIVed80/edit?usp=sharing) zu finden.\n",
    "\n",
    "Der Workshop findet zweimal statt: einmal am Morgen und einmal am Nachmittag. Die Daten sind nur für jeweilige Session gespeichert, und danach werden gelöscht.\n",
    "\n",
    "Für dieses Event planen wir maximum 30 Teams."
   ]
  },
  {
   "cell_type": "markdown",
   "id": "4197bfe4-10f3-46ae-a5e3-e335ad83b457",
   "metadata": {},
   "source": [
    "## Vorbereitungen\n",
    "\n",
    "Jedes Kind/Elternteil paar bekommt ein Papier, darauf steht fünf QR codes und andere Informationen:\n",
    "\n",
    "Tech Check: Team eingeben\n",
    "Spiel 1: Körpergrösse\n",
    "Spiel 2: Umfang\n",
    "Spiel 3: Klinische Studie #1\n",
    "Spiel 4: Klinische Studie #2"
   ]
  },
  {
   "cell_type": "code",
   "execution_count": 1,
   "id": "4c4ecf33-a42e-4eb9-882b-6bcdad74d20c",
   "metadata": {},
   "outputs": [],
   "source": [
    "## Teams: ChatGPT, https://chatgpt.com/share/e/68f8f919-f328-8009-adbf-f3c76574926e\n",
    "with open('data/animals.txt', 'r') as tn:\n",
    "    all_team_namen_str = filter(bool, tn.read().split(\"\\n\")) ## the filter/book trick removes ANY empty string\n",
    "    all_team_namen = dict(item.split(\":\") for item in all_team_namen_str)\n",
    "## Kindervornamen: https://www.bfs.admin.ch/bfs/de/home/statistiken/bevoelkerung/geburten-todesfaelle/vornamen-neugeborene.assetdetail.540003.html\n",
    "with open('data/kinder_vornamen.txt', 'r') as kf:\n",
    "    kinder_vornamen = list(filter(bool, kf.read().splitlines()))\n",
    "## Elternvornamen: https://www.bfs.admin.ch/bfs/de/home/statistiken/bevoelkerung/geburten-todesfaelle/namen-schweiz.html, Jahrgang 1984\n",
    "with open('data/eltern_vornamen.txt', 'r') as ef:\n",
    "    eltern_vornamen = list(filter(bool, ef.read().splitlines()))"
   ]
  },
  {
   "cell_type": "code",
   "execution_count": 2,
   "id": "e899c415-fa38-4196-9285-d84a78764015",
   "metadata": {},
   "outputs": [],
   "source": [
    "all_team_namen_de = list(all_team_namen.keys())\n",
    "all_team_namen_en = list(all_team_namen.values())"
   ]
  },
  {
   "cell_type": "code",
   "execution_count": 3,
   "id": "4d5ea8a7-8b24-4a1c-ac9b-8cfd447a2140",
   "metadata": {},
   "outputs": [],
   "source": [
    "import random\n",
    "import pandas as pd\n",
    "from itables import show\n",
    "\n",
    "n_teilnahme = 25\n",
    "random.seed(1887)\n",
    "\n",
    "team_namen_de = random.sample(all_team_namen_de, n_teilnahme)\n",
    "team_namen_en = [all_team_namen[k] for k in team_namen_de]\n",
    "team_kind_vornamen = random.choices(kinder_vornamen, k=n_teilnahme) ## choices sample WITH replacement, samples WITHOUT replacement\n",
    "team_eltern_vornamen = random.choices(eltern_vornamen, k=n_teilnahme)"
   ]
  },
  {
   "cell_type": "code",
   "execution_count": 4,
   "id": "b36eaaf3-d713-4800-93a9-8fb7e88813c4",
   "metadata": {},
   "outputs": [],
   "source": [
    "team_df = pd.DataFrame({'Team_de':team_namen_de,\n",
    "                        'Team_en':team_namen_en,\n",
    "                        'Eltern': team_eltern_vornamen,\n",
    "                        'Kind': team_kind_vornamen})"
   ]
  },
  {
   "cell_type": "markdown",
   "id": "699dc3c4-dbd8-49cb-9e9d-bb970a7cba3a",
   "metadata": {},
   "source": [
    "## Tech Check: Team und Namen eingeben\n",
    "\n",
    "Jedes Team (Eltern + Kind) scannt den QR code (jedes Team, i.e. auf jedem Papier, hat ein eigenes QR Code). Der Server fragt nach Vornamen von dem Elternteil und dem Kind.\n",
    "\n",
    "Ergebnisse:\n",
    "\n",
    "* Eine Tabelle mit alle Teamnamen, die benutzt werden, und der Vornamen von Kindern und Eltern. Die Tabelle soll spaltenweise sortierbar sein.\n",
    "* Eine Tabelle mit allen einzigartigen Vornamen, und deren Frequenz untern Eltern, Kindern, und beiden."
   ]
  },
  {
   "cell_type": "code",
   "execution_count": 5,
   "id": "019b5307-41b5-430a-b9c1-023f10119239",
   "metadata": {},
   "outputs": [
    {
     "data": {
      "text/html": [
       "<!--| quarto-html-table-processing: none -->\n",
       "<table id=\"itables_ac9e1ef4_1a13_4fbf_98c2_d314f561a424\"><tbody><tr>\n",
       "    <td style=\"vertical-align:middle; text-align:left\">\n",
       "    <a href=https://mwouts.github.io/itables/><svg class=\"main-svg\" xmlns=\"http://www.w3.org/2000/svg\" xmlns:xlink=\"http://www.w3.org/1999/xlink\"\n",
       "width=\"64\" viewBox=\"0 0 500 400\" style=\"font-family: 'Droid Sans', sans-serif;\">\n",
       "    <g style=\"fill:#d9d7fc\">\n",
       "        <path d=\"M100,400H500V357H100Z\" />\n",
       "        <path d=\"M100,300H400V257H100Z\" />\n",
       "        <path d=\"M0,200H400V157H0Z\" />\n",
       "        <path d=\"M100,100H500V57H100Z\" />\n",
       "        <path d=\"M100,350H500V307H100Z\" />\n",
       "        <path d=\"M100,250H400V207H100Z\" />\n",
       "        <path d=\"M0,150H400V107H0Z\" />\n",
       "        <path d=\"M100,50H500V7H100Z\" />\n",
       "    </g>\n",
       "    <g style=\"fill:#1a1366;stroke:#1a1366;\">\n",
       "   <rect x=\"100\" y=\"7\" width=\"400\" height=\"43\">\n",
       "    <animate\n",
       "      attributeName=\"width\"\n",
       "      values=\"0;400;0\"\n",
       "      dur=\"5s\"\n",
       "      repeatCount=\"indefinite\" />\n",
       "      <animate\n",
       "      attributeName=\"x\"\n",
       "      values=\"100;100;500\"\n",
       "      dur=\"5s\"\n",
       "      repeatCount=\"indefinite\" />\n",
       "  </rect>\n",
       "        <rect x=\"0\" y=\"107\" width=\"400\" height=\"43\">\n",
       "    <animate\n",
       "      attributeName=\"width\"\n",
       "      values=\"0;400;0\"\n",
       "      dur=\"3.5s\"\n",
       "      repeatCount=\"indefinite\" />\n",
       "    <animate\n",
       "      attributeName=\"x\"\n",
       "      values=\"0;0;400\"\n",
       "      dur=\"3.5s\"\n",
       "      repeatCount=\"indefinite\" />\n",
       "  </rect>\n",
       "        <rect x=\"100\" y=\"207\" width=\"300\" height=\"43\">\n",
       "    <animate\n",
       "      attributeName=\"width\"\n",
       "      values=\"0;300;0\"\n",
       "      dur=\"3s\"\n",
       "      repeatCount=\"indefinite\" />\n",
       "    <animate\n",
       "      attributeName=\"x\"\n",
       "      values=\"100;100;400\"\n",
       "      dur=\"3s\"\n",
       "      repeatCount=\"indefinite\" />\n",
       "  </rect>\n",
       "        <rect x=\"100\" y=\"307\" width=\"400\" height=\"43\">\n",
       "    <animate\n",
       "      attributeName=\"width\"\n",
       "      values=\"0;400;0\"\n",
       "      dur=\"4s\"\n",
       "      repeatCount=\"indefinite\" />\n",
       "      <animate\n",
       "      attributeName=\"x\"\n",
       "      values=\"100;100;500\"\n",
       "      dur=\"4s\"\n",
       "      repeatCount=\"indefinite\" />\n",
       "  </rect>\n",
       "        <g style=\"fill:transparent;stroke-width:8; stroke-linejoin:round\" rx=\"5\">\n",
       "            <g transform=\"translate(45 50) rotate(-45)\">\n",
       "                <circle r=\"33\" cx=\"0\" cy=\"0\" />\n",
       "                <rect x=\"-8\" y=\"32\" width=\"16\" height=\"30\" />\n",
       "            </g>\n",
       "\n",
       "            <g transform=\"translate(450 152)\">\n",
       "                <polyline points=\"-15,-20 -35,-20 -35,40 25,40 25,20\" />\n",
       "                <rect x=\"-15\" y=\"-40\" width=\"60\" height=\"60\" />\n",
       "            </g>\n",
       "\n",
       "            <g transform=\"translate(50 352)\">\n",
       "                <polygon points=\"-35,-5 0,-40 35,-5\" />\n",
       "                <polygon points=\"-35,10 0,45 35,10\" />\n",
       "            </g>\n",
       "\n",
       "            <g transform=\"translate(75 250)\">\n",
       "                <polyline points=\"-30,30 -60,0 -30,-30\" />\n",
       "                <polyline points=\"0,30 -30,0 0,-30\" />\n",
       "            </g>\n",
       "\n",
       "            <g transform=\"translate(425 250) rotate(180)\">\n",
       "                <polyline points=\"-30,30 -60,0 -30,-30\" />\n",
       "                <polyline points=\"0,30 -30,0 0,-30\" />\n",
       "            </g>\n",
       "        </g>\n",
       "    </g>\n",
       "</svg>\n",
       "</a>\n",
       "    Loading ITables v2.5.2 from the internet...\n",
       "    (need <a href=https://mwouts.github.io/itables/troubleshooting.html>help</a>?)</td>\n",
       "    </tr></tbody></table>\n",
       "<link href=\"https://www.unpkg.com/dt_for_itables@2.4.0/dt_bundle.css\" rel=\"stylesheet\">\n",
       "<script type=\"module\">\n",
       "    import { ITable, jQuery as $ } from 'https://www.unpkg.com/dt_for_itables@2.4.0/dt_bundle.js';\n",
       "\n",
       "    document.querySelectorAll(\"#itables_ac9e1ef4_1a13_4fbf_98c2_d314f561a424:not(.dataTable)\").forEach(table => {\n",
       "        if (!(table instanceof HTMLTableElement))\n",
       "            return;\n",
       "\n",
       "        let dt_args = {\"paging\": false, \"layout\": {\"topStart\": \"pageLength\", \"topEnd\": \"search\", \"bottomStart\": \"info\", \"bottomEnd\": \"paging\"}, \"classes\": [\"display\", \"nowrap\"], \"style\": {\"table-layout\": \"auto\", \"width\": \"auto\", \"margin\": \"auto\", \"caption-side\": \"bottom\"}, \"order\": [], \"text_in_header_can_be_selected\": true, \"table_html\": \"<table><thead>\\n    <tr style=\\\"text-align: right;\\\">\\n      \\n      <th>Team_de</th>\\n      <th>Team_en</th>\\n      <th>Eltern</th>\\n      <th>Kind</th>\\n    </tr>\\n  </thead></table>\", \"data_json\": \"[[\\\"Interessantes Igelchen\\\", \\\"interesting little hedgehog\\\", \\\"Pascal\\\", \\\"Ben\\\"], [\\\"Sanfter Schwan\\\", \\\"gentle swan\\\", \\\"Ana\\\", \\\"Matteo\\\"], [\\\"Mutiger Marienk\\\\u00e4fer\\\", \\\"brave ladybug\\\", \\\"Claudia\\\", \\\"Samuel\\\"], [\\\"Offenes Otterchen\\\", \\\"open-minded little otter\\\", \\\"Anna\\\", \\\"Nina\\\"], [\\\"Heiteres Huhn\\\", \\\"merry chicken\\\", \\\"Matthias\\\", \\\"Sofia\\\"], [\\\"Ruhiges Reh\\\", \\\"calm deer\\\", \\\"Ana\\\", \\\"Julian\\\"], [\\\"Neugieriges Nilpferd\\\", \\\"curious hippo\\\", \\\"Sabrina\\\", \\\"Alina\\\"], [\\\"Yogafreundlicher Yak\\\", \\\"peaceful yak\\\", \\\"Pascal\\\", \\\"Diego\\\"], [\\\"Fr\\\\u00f6hlicher Fuchs\\\", \\\"cheerful fox\\\", \\\"Florian\\\", \\\"Jonas\\\"], [\\\"Kluges K\\\\u00e4tzchen\\\", \\\"clever kitten\\\", \\\"Pascal\\\", \\\"Sophie\\\"], [\\\"Putziger Pinguin\\\", \\\"cute penguin\\\", \\\"Simon\\\", \\\"Luca\\\"], [\\\"Braver B\\\\u00e4r\\\", \\\"brave bear\\\", \\\"Fabienne\\\", \\\"Diego\\\"], [\\\"Abenteuerlustiger Adler\\\", \\\"adventurous eagle\\\", \\\"Fabian\\\", \\\"Mila\\\"], [\\\"Quicklebendiges Quokka\\\", \\\"spirited quokka\\\", \\\"Matthias\\\", \\\"Anna\\\"], [\\\"Umsichtiger Uhu\\\", \\\"cautious owl\\\", \\\"Pascal\\\", \\\"Tim\\\"], [\\\"Wunderbarer Wolf\\\", \\\"wonderful wolf\\\", \\\"Adrian\\\", \\\"Lia\\\"], [\\\"Verspieltes V\\\\u00f6gelchen\\\", \\\"playful little bird\\\", \\\"Thomas\\\", \\\"Diego\\\"], [\\\"Eleganter Elefant\\\", \\\"elegant elephant\\\", \\\"Barbara\\\", \\\"Sophia\\\"], [\\\"Freundliches Frettchen\\\", \\\"friendly ferret\\\", \\\"Martina\\\", \\\"Gabriel\\\"], [\\\"Treuer Tukan\\\", \\\"loyal toucan\\\", \\\"Adrian\\\", \\\"Diego\\\"], [\\\"Cleverer Chinchilla\\\", \\\"clever chinchilla\\\", \\\"Fabienne\\\", \\\"Mia\\\"], [\\\"Zauberhaftes Zebra\\\", \\\"enchanting zebra\\\", \\\"Laura\\\", \\\"Noah\\\"], [\\\"Jovialer Jaguar\\\", \\\"jovial jaguar\\\", \\\"Stefanie\\\", \\\"Sofia\\\"], [\\\"Z\\\\u00e4rtlicher Ziegenbock\\\", \\\"tender goat\\\", \\\"Daniela\\\", \\\"Mila\\\"], [\\\"Lebenslustiger L\\\\u00f6we\\\", \\\"lively lion\\\", \\\"Stefanie\\\", \\\"David\\\"]]\"};\n",
       "        new ITable(table, dt_args);\n",
       "    });\n",
       "</script>\n"
      ],
      "text/plain": [
       "<IPython.core.display.HTML object>"
      ]
     },
     "metadata": {},
     "output_type": "display_data"
    }
   ],
   "source": [
    "show(team_df, paging=False)"
   ]
  },
  {
   "cell_type": "markdown",
   "id": "61af0d94-411c-413f-b723-bae076bc1d42",
   "metadata": {},
   "source": [
    "## Spiel 1: Körpergrössen"
   ]
  },
  {
   "cell_type": "markdown",
   "id": "9b627081-703f-4409-8738-657d939af75c",
   "metadata": {},
   "source": [
    "## Spiel 2"
   ]
  }
 ],
 "metadata": {
  "kernelspec": {
   "display_name": "Python 3 (ipykernel)",
   "language": "python",
   "name": "python3"
  },
  "language_info": {
   "codemirror_mode": {
    "name": "ipython",
    "version": 3
   },
   "file_extension": ".py",
   "mimetype": "text/x-python",
   "name": "python",
   "nbconvert_exporter": "python",
   "pygments_lexer": "ipython3",
   "version": "3.14.0"
  }
 },
 "nbformat": 4,
 "nbformat_minor": 5
}
